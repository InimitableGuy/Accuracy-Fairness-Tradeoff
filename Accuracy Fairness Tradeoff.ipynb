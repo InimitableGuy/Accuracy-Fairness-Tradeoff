{
  "nbformat": 4,
  "nbformat_minor": 0,
  "metadata": {
    "colab": {
      "name": "ML_244837.ipynb",
      "provenance": [],
      "collapsed_sections": []
    },
    "kernelspec": {
      "name": "python3",
      "display_name": "Python 3"
    },
    "language_info": {
      "name": "python"
    }
  },
  "cells": [
    {
      "cell_type": "markdown",
      "source": [
        "# Installing aif dataset"
      ],
      "metadata": {
        "id": "M0DEvXwADIii"
      }
    },
    {
      "cell_type": "code",
      "execution_count": 1,
      "metadata": {
        "colab": {
          "base_uri": "https://localhost:8080/"
        },
        "id": "dJCXYVjb7gNH",
        "outputId": "2cb5ee45-abe4-48f9-94ba-142d4716b1f2"
      },
      "outputs": [
        {
          "output_type": "stream",
          "name": "stdout",
          "text": [
            "Collecting aif360[LFR]\n",
            "  Downloading aif360-0.4.0-py3-none-any.whl (175 kB)\n",
            "\u001b[?25l\r\u001b[K     |█▉                              | 10 kB 22.2 MB/s eta 0:00:01\r\u001b[K     |███▊                            | 20 kB 25.6 MB/s eta 0:00:01\r\u001b[K     |█████▋                          | 30 kB 15.8 MB/s eta 0:00:01\r\u001b[K     |███████▌                        | 40 kB 11.9 MB/s eta 0:00:01\r\u001b[K     |█████████▍                      | 51 kB 6.3 MB/s eta 0:00:01\r\u001b[K     |███████████▎                    | 61 kB 7.4 MB/s eta 0:00:01\r\u001b[K     |█████████████                   | 71 kB 7.1 MB/s eta 0:00:01\r\u001b[K     |███████████████                 | 81 kB 5.9 MB/s eta 0:00:01\r\u001b[K     |████████████████▉               | 92 kB 6.5 MB/s eta 0:00:01\r\u001b[K     |██████████████████▊             | 102 kB 7.1 MB/s eta 0:00:01\r\u001b[K     |████████████████████▋           | 112 kB 7.1 MB/s eta 0:00:01\r\u001b[K     |██████████████████████▌         | 122 kB 7.1 MB/s eta 0:00:01\r\u001b[K     |████████████████████████▎       | 133 kB 7.1 MB/s eta 0:00:01\r\u001b[K     |██████████████████████████▏     | 143 kB 7.1 MB/s eta 0:00:01\r\u001b[K     |████████████████████████████    | 153 kB 7.1 MB/s eta 0:00:01\r\u001b[K     |██████████████████████████████  | 163 kB 7.1 MB/s eta 0:00:01\r\u001b[K     |███████████████████████████████▉| 174 kB 7.1 MB/s eta 0:00:01\r\u001b[K     |████████████████████████████████| 175 kB 7.1 MB/s \n",
            "\u001b[33mWARNING: aif360 0.4.0 does not provide the extra 'lfr'\u001b[0m\n",
            "\u001b[?25hRequirement already satisfied: matplotlib in /usr/local/lib/python3.7/dist-packages (from aif360[LFR]) (3.2.2)\n",
            "Collecting tempeh\n",
            "  Downloading tempeh-0.1.12-py3-none-any.whl (39 kB)\n",
            "Requirement already satisfied: numpy>=1.16 in /usr/local/lib/python3.7/dist-packages (from aif360[LFR]) (1.21.6)\n",
            "Requirement already satisfied: scikit-learn>=0.22.1 in /usr/local/lib/python3.7/dist-packages (from aif360[LFR]) (1.0.2)\n",
            "Requirement already satisfied: scipy<1.6.0,>=1.2.0 in /usr/local/lib/python3.7/dist-packages (from aif360[LFR]) (1.4.1)\n",
            "Requirement already satisfied: pandas>=0.24.0 in /usr/local/lib/python3.7/dist-packages (from aif360[LFR]) (1.3.5)\n",
            "Requirement already satisfied: pytz>=2017.3 in /usr/local/lib/python3.7/dist-packages (from pandas>=0.24.0->aif360[LFR]) (2022.1)\n",
            "Requirement already satisfied: python-dateutil>=2.7.3 in /usr/local/lib/python3.7/dist-packages (from pandas>=0.24.0->aif360[LFR]) (2.8.2)\n",
            "Requirement already satisfied: six>=1.5 in /usr/local/lib/python3.7/dist-packages (from python-dateutil>=2.7.3->pandas>=0.24.0->aif360[LFR]) (1.15.0)\n",
            "Requirement already satisfied: joblib>=0.11 in /usr/local/lib/python3.7/dist-packages (from scikit-learn>=0.22.1->aif360[LFR]) (1.1.0)\n",
            "Requirement already satisfied: threadpoolctl>=2.0.0 in /usr/local/lib/python3.7/dist-packages (from scikit-learn>=0.22.1->aif360[LFR]) (3.1.0)\n",
            "Requirement already satisfied: pyparsing!=2.0.4,!=2.1.2,!=2.1.6,>=2.0.1 in /usr/local/lib/python3.7/dist-packages (from matplotlib->aif360[LFR]) (3.0.8)\n",
            "Requirement already satisfied: kiwisolver>=1.0.1 in /usr/local/lib/python3.7/dist-packages (from matplotlib->aif360[LFR]) (1.4.2)\n",
            "Requirement already satisfied: cycler>=0.10 in /usr/local/lib/python3.7/dist-packages (from matplotlib->aif360[LFR]) (0.11.0)\n",
            "Requirement already satisfied: typing-extensions in /usr/local/lib/python3.7/dist-packages (from kiwisolver>=1.0.1->matplotlib->aif360[LFR]) (4.2.0)\n",
            "Collecting shap\n",
            "  Downloading shap-0.40.0-cp37-cp37m-manylinux2010_x86_64.whl (564 kB)\n",
            "\u001b[K     |████████████████████████████████| 564 kB 52.7 MB/s \n",
            "\u001b[?25hCollecting memory-profiler\n",
            "  Downloading memory_profiler-0.60.0.tar.gz (38 kB)\n",
            "Requirement already satisfied: pytest in /usr/local/lib/python3.7/dist-packages (from tempeh->aif360[LFR]) (3.6.4)\n",
            "Requirement already satisfied: requests in /usr/local/lib/python3.7/dist-packages (from tempeh->aif360[LFR]) (2.23.0)\n",
            "Requirement already satisfied: psutil in /usr/local/lib/python3.7/dist-packages (from memory-profiler->tempeh->aif360[LFR]) (5.4.8)\n",
            "Requirement already satisfied: atomicwrites>=1.0 in /usr/local/lib/python3.7/dist-packages (from pytest->tempeh->aif360[LFR]) (1.4.0)\n",
            "Requirement already satisfied: attrs>=17.4.0 in /usr/local/lib/python3.7/dist-packages (from pytest->tempeh->aif360[LFR]) (21.4.0)\n",
            "Requirement already satisfied: pluggy<0.8,>=0.5 in /usr/local/lib/python3.7/dist-packages (from pytest->tempeh->aif360[LFR]) (0.7.1)\n",
            "Requirement already satisfied: setuptools in /usr/local/lib/python3.7/dist-packages (from pytest->tempeh->aif360[LFR]) (57.4.0)\n",
            "Requirement already satisfied: more-itertools>=4.0.0 in /usr/local/lib/python3.7/dist-packages (from pytest->tempeh->aif360[LFR]) (8.12.0)\n",
            "Requirement already satisfied: py>=1.5.0 in /usr/local/lib/python3.7/dist-packages (from pytest->tempeh->aif360[LFR]) (1.11.0)\n",
            "Requirement already satisfied: urllib3!=1.25.0,!=1.25.1,<1.26,>=1.21.1 in /usr/local/lib/python3.7/dist-packages (from requests->tempeh->aif360[LFR]) (1.24.3)\n",
            "Requirement already satisfied: chardet<4,>=3.0.2 in /usr/local/lib/python3.7/dist-packages (from requests->tempeh->aif360[LFR]) (3.0.4)\n",
            "Requirement already satisfied: certifi>=2017.4.17 in /usr/local/lib/python3.7/dist-packages (from requests->tempeh->aif360[LFR]) (2021.10.8)\n",
            "Requirement already satisfied: idna<3,>=2.5 in /usr/local/lib/python3.7/dist-packages (from requests->tempeh->aif360[LFR]) (2.10)\n",
            "Requirement already satisfied: numba in /usr/local/lib/python3.7/dist-packages (from shap->tempeh->aif360[LFR]) (0.51.2)\n",
            "Requirement already satisfied: tqdm>4.25.0 in /usr/local/lib/python3.7/dist-packages (from shap->tempeh->aif360[LFR]) (4.64.0)\n",
            "Collecting slicer==0.0.7\n",
            "  Downloading slicer-0.0.7-py3-none-any.whl (14 kB)\n",
            "Requirement already satisfied: packaging>20.9 in /usr/local/lib/python3.7/dist-packages (from shap->tempeh->aif360[LFR]) (21.3)\n",
            "Requirement already satisfied: cloudpickle in /usr/local/lib/python3.7/dist-packages (from shap->tempeh->aif360[LFR]) (1.3.0)\n",
            "Requirement already satisfied: llvmlite<0.35,>=0.34.0.dev0 in /usr/local/lib/python3.7/dist-packages (from numba->shap->tempeh->aif360[LFR]) (0.34.0)\n",
            "Building wheels for collected packages: memory-profiler\n",
            "  Building wheel for memory-profiler (setup.py) ... \u001b[?25l\u001b[?25hdone\n",
            "  Created wheel for memory-profiler: filename=memory_profiler-0.60.0-py3-none-any.whl size=31284 sha256=f6ebe35e3a0fd39d7898a8238ba5bbe700651af379ad2931afa3370504ccf344\n",
            "  Stored in directory: /root/.cache/pip/wheels/67/2b/fb/326e30d638c538e69a5eb0aa47f4223d979f502bbdb403950f\n",
            "Successfully built memory-profiler\n",
            "Installing collected packages: slicer, shap, memory-profiler, tempeh, aif360\n",
            "Successfully installed aif360-0.4.0 memory-profiler-0.60.0 shap-0.40.0 slicer-0.0.7 tempeh-0.1.12\n"
          ]
        }
      ],
      "source": [
        "!pip install 'aif360[LFR]'"
      ]
    },
    {
      "cell_type": "code",
      "source": [
        "pip install fairlearn"
      ],
      "metadata": {
        "colab": {
          "base_uri": "https://localhost:8080/"
        },
        "id": "mLsGKVNj7hVY",
        "outputId": "001480ea-cbb9-46c0-8fdf-12d00ebc78cb"
      },
      "execution_count": 2,
      "outputs": [
        {
          "output_type": "stream",
          "name": "stdout",
          "text": [
            "Collecting fairlearn\n",
            "  Downloading fairlearn-0.7.0-py3-none-any.whl (177 kB)\n",
            "\u001b[?25l\r\u001b[K     |█▉                              | 10 kB 19.4 MB/s eta 0:00:01\r\u001b[K     |███▊                            | 20 kB 6.4 MB/s eta 0:00:01\r\u001b[K     |█████▌                          | 30 kB 4.3 MB/s eta 0:00:01\r\u001b[K     |███████▍                        | 40 kB 4.0 MB/s eta 0:00:01\r\u001b[K     |█████████▎                      | 51 kB 4.2 MB/s eta 0:00:01\r\u001b[K     |███████████                     | 61 kB 5.0 MB/s eta 0:00:01\r\u001b[K     |█████████████                   | 71 kB 5.2 MB/s eta 0:00:01\r\u001b[K     |██████████████▊                 | 81 kB 5.1 MB/s eta 0:00:01\r\u001b[K     |████████████████▋               | 92 kB 5.6 MB/s eta 0:00:01\r\u001b[K     |██████████████████▌             | 102 kB 5.7 MB/s eta 0:00:01\r\u001b[K     |████████████████████▎           | 112 kB 5.7 MB/s eta 0:00:01\r\u001b[K     |██████████████████████▏         | 122 kB 5.7 MB/s eta 0:00:01\r\u001b[K     |████████████████████████        | 133 kB 5.7 MB/s eta 0:00:01\r\u001b[K     |█████████████████████████▉      | 143 kB 5.7 MB/s eta 0:00:01\r\u001b[K     |███████████████████████████▊    | 153 kB 5.7 MB/s eta 0:00:01\r\u001b[K     |█████████████████████████████▌  | 163 kB 5.7 MB/s eta 0:00:01\r\u001b[K     |███████████████████████████████▍| 174 kB 5.7 MB/s eta 0:00:01\r\u001b[K     |████████████████████████████████| 177 kB 5.7 MB/s \n",
            "\u001b[?25hRequirement already satisfied: numpy>=1.17.2 in /usr/local/lib/python3.7/dist-packages (from fairlearn) (1.21.6)\n",
            "Requirement already satisfied: scipy>=1.4.1 in /usr/local/lib/python3.7/dist-packages (from fairlearn) (1.4.1)\n",
            "Requirement already satisfied: pandas>=0.25.1 in /usr/local/lib/python3.7/dist-packages (from fairlearn) (1.3.5)\n",
            "Requirement already satisfied: scikit-learn>=0.22.1 in /usr/local/lib/python3.7/dist-packages (from fairlearn) (1.0.2)\n",
            "Requirement already satisfied: python-dateutil>=2.7.3 in /usr/local/lib/python3.7/dist-packages (from pandas>=0.25.1->fairlearn) (2.8.2)\n",
            "Requirement already satisfied: pytz>=2017.3 in /usr/local/lib/python3.7/dist-packages (from pandas>=0.25.1->fairlearn) (2022.1)\n",
            "Requirement already satisfied: six>=1.5 in /usr/local/lib/python3.7/dist-packages (from python-dateutil>=2.7.3->pandas>=0.25.1->fairlearn) (1.15.0)\n",
            "Requirement already satisfied: threadpoolctl>=2.0.0 in /usr/local/lib/python3.7/dist-packages (from scikit-learn>=0.22.1->fairlearn) (3.1.0)\n",
            "Requirement already satisfied: joblib>=0.11 in /usr/local/lib/python3.7/dist-packages (from scikit-learn>=0.22.1->fairlearn) (1.1.0)\n",
            "Installing collected packages: fairlearn\n",
            "Successfully installed fairlearn-0.7.0\n"
          ]
        }
      ]
    },
    {
      "cell_type": "code",
      "source": [
        "cd /usr/local/lib/python3.7/dist-packages/aif360/data/raw/adult"
      ],
      "metadata": {
        "colab": {
          "base_uri": "https://localhost:8080/"
        },
        "id": "0ie_kgEa7i-E",
        "outputId": "0660922f-7bb3-4bfa-d57b-4605640d0563"
      },
      "execution_count": 3,
      "outputs": [
        {
          "output_type": "stream",
          "name": "stdout",
          "text": [
            "/usr/local/lib/python3.7/dist-packages/aif360/data/raw/adult\n"
          ]
        }
      ]
    },
    {
      "cell_type": "code",
      "source": [
        "!wget https://archive.ics.uci.edu/ml/machine-learning-databases/adult/adult.data\n",
        "!wget https://archive.ics.uci.edu/ml/machine-learning-databases/adult/adult.names\n",
        "!wget https://archive.ics.uci.edu/ml/machine-learning-databases/adult/adult.test "
      ],
      "metadata": {
        "colab": {
          "base_uri": "https://localhost:8080/"
        },
        "id": "ymDBsoGy7sgq",
        "outputId": "5955faf9-33d0-4a7d-8e11-170e9524e6c7"
      },
      "execution_count": 4,
      "outputs": [
        {
          "output_type": "stream",
          "name": "stdout",
          "text": [
            "--2022-05-13 11:00:07--  https://archive.ics.uci.edu/ml/machine-learning-databases/adult/adult.data\n",
            "Resolving archive.ics.uci.edu (archive.ics.uci.edu)... 128.195.10.252\n",
            "Connecting to archive.ics.uci.edu (archive.ics.uci.edu)|128.195.10.252|:443... connected.\n",
            "HTTP request sent, awaiting response... 200 OK\n",
            "Length: 3974305 (3.8M) [application/x-httpd-php]\n",
            "Saving to: ‘adult.data’\n",
            "\n",
            "adult.data          100%[===================>]   3.79M  --.-KB/s    in 0.1s    \n",
            "\n",
            "2022-05-13 11:00:07 (37.5 MB/s) - ‘adult.data’ saved [3974305/3974305]\n",
            "\n",
            "--2022-05-13 11:00:07--  https://archive.ics.uci.edu/ml/machine-learning-databases/adult/adult.names\n",
            "Resolving archive.ics.uci.edu (archive.ics.uci.edu)... 128.195.10.252\n",
            "Connecting to archive.ics.uci.edu (archive.ics.uci.edu)|128.195.10.252|:443... connected.\n",
            "HTTP request sent, awaiting response... 200 OK\n",
            "Length: 5229 (5.1K) [application/x-httpd-php]\n",
            "Saving to: ‘adult.names’\n",
            "\n",
            "adult.names         100%[===================>]   5.11K  --.-KB/s    in 0s      \n",
            "\n",
            "2022-05-13 11:00:07 (152 MB/s) - ‘adult.names’ saved [5229/5229]\n",
            "\n",
            "--2022-05-13 11:00:07--  https://archive.ics.uci.edu/ml/machine-learning-databases/adult/adult.test\n",
            "Resolving archive.ics.uci.edu (archive.ics.uci.edu)... 128.195.10.252\n",
            "Connecting to archive.ics.uci.edu (archive.ics.uci.edu)|128.195.10.252|:443... connected.\n",
            "HTTP request sent, awaiting response... 200 OK\n",
            "Length: 2003153 (1.9M) [application/x-httpd-php]\n",
            "Saving to: ‘adult.test’\n",
            "\n",
            "adult.test          100%[===================>]   1.91M  --.-KB/s    in 0.07s   \n",
            "\n",
            "2022-05-13 11:00:07 (26.8 MB/s) - ‘adult.test’ saved [2003153/2003153]\n",
            "\n"
          ]
        }
      ]
    },
    {
      "cell_type": "markdown",
      "source": [
        "Installling the libraries"
      ],
      "metadata": {
        "id": "EM_u-PZRDWHR"
      }
    },
    {
      "cell_type": "code",
      "source": [
        "\n",
        "#Import the AIF360 library and set the random seed.\n",
        "import numpy as np\n",
        "from aif360.datasets import AdultDataset\n",
        "from aif360.algorithms.preprocessing.optim_preproc_helpers.data_preproc_functions import load_preproc_data_adult\n",
        "from aif360.algorithms.preprocessing.optim_preproc_helpers.data_preproc_functions import load_preproc_data_german\n",
        "from aif360.metrics import ClassificationMetric\n",
        "from aif360.algorithms.preprocessing.reweighing import Reweighing\n",
        "import pdb\n",
        "from sklearn.preprocessing import StandardScaler  #MinMaxScaler\n",
        "from sklearn.linear_model import LogisticRegression\n",
        "from sklearn.model_selection import *\n",
        "from numpy import mean\n",
        "from numpy import std\n",
        "from sklearn.datasets import make_classification\n",
        "from sklearn.model_selection import KFold\n",
        "from sklearn.model_selection import cross_val_score\n",
        "\n",
        "\n",
        "np.random.seed(0)\n",
        "\n"
      ],
      "metadata": {
        "id": "jEEdd_J47uGs"
      },
      "execution_count": 5,
      "outputs": []
    },
    {
      "cell_type": "markdown",
      "source": [
        "Splitting the Adult dataset."
      ],
      "metadata": {
        "id": "t7TIcuvdDaMp"
      }
    },
    {
      "cell_type": "code",
      "source": [
        "#Defining where's the bias in the features of our dataset.\n",
        "\n",
        "privileged_groups = [{'sex': 1}]\n",
        "unprivileged_groups = [{'sex': 0}]\n",
        "dataset_orig = load_preproc_data_adult(['sex'])\n",
        "\n",
        "\n",
        "#Splitting between training and test set.\n",
        "unscaled_adult_train, unscaled_adult_test = dataset_orig.split([0.7], shuffle=True,seed=np.random.seed(0))\n",
        "print(\"training data size\", unscaled_adult_train.features.shape)\n",
        "print(\"dataset feature names\", unscaled_adult_test.feature_names)\n",
        "\n"
      ],
      "metadata": {
        "colab": {
          "base_uri": "https://localhost:8080/"
        },
        "id": "pVKnurLS78Xy",
        "outputId": "5346a3ae-9f9e-4ee0-ea4d-fcf5b3c693d3"
      },
      "execution_count": 6,
      "outputs": [
        {
          "output_type": "stream",
          "name": "stdout",
          "text": [
            "training data size (34189, 18)\n",
            "dataset feature names ['race', 'sex', 'Age (decade)=10', 'Age (decade)=20', 'Age (decade)=30', 'Age (decade)=40', 'Age (decade)=50', 'Age (decade)=60', 'Age (decade)=>=70', 'Education Years=6', 'Education Years=7', 'Education Years=8', 'Education Years=9', 'Education Years=10', 'Education Years=11', 'Education Years=12', 'Education Years=<6', 'Education Years=>12']\n"
          ]
        }
      ]
    },
    {
      "cell_type": "markdown",
      "source": [
        "# Task 1 (Adult Dataset)"
      ],
      "metadata": {
        "id": "v2aOsbG0eNQe"
      }
    },
    {
      "cell_type": "code",
      "source": [
        "#Creating a function to calculate the Accuracy while tuning the hyperparameter\n",
        "def cross_validation_adult(utrain,utest,s,e,l,splits):\n",
        "  c_value=np.logspace(s,e,l)\n",
        "  cv = KFold(n_splits=splits, random_state=1, shuffle=True) #Defining a split function to split the training set into n splits\n",
        "  average_metric={}\n",
        "  acc=[]\n",
        "  eq=[]\n",
        "  ind=[]\n",
        "  for i in c_value:\n",
        "    learner = LogisticRegression(solver='liblinear', random_state=1, C=i)  #Initializing logistic regression function with hyperparameter C\n",
        "    marray=[]\n",
        "    aarray=[]\n",
        "    for train_ix, test_ix in cv.split(utrain.features):\n",
        "\n",
        "      train_x,test_x=utrain.subset(train_ix),utrain.subset(test_ix)\n",
        "      scale_orig = StandardScaler()\n",
        "      X_train = scale_orig.fit_transform(train_x.features)\n",
        "      y_train = train_x.labels.ravel()\n",
        "      X_test = scale_orig.transform(test_x.features) \n",
        "      y_test = test_x.labels.ravel()\n",
        "\n",
        "      learner.fit(X_train,y_train)\n",
        "      predictions = learner.predict(X_test)\n",
        "      test_pred = test_x.copy()\n",
        "      test_pred.labels = predictions\n",
        "      \n",
        "      metric = ClassificationMetric(test_x, test_pred, unprivileged_groups=unprivileged_groups, privileged_groups=privileged_groups)\n",
        "      marray.append((metric.equal_opportunity_difference()))\n",
        "      aarray.append(sum(predictions==y_test)/len(y_test))\n",
        "    average_metric[i]=np.mean(marray)\n",
        "    eq.append(average_metric[i])\n",
        "    acc.append(np.mean(aarray))\n",
        "    ind.append(i)\n",
        "  for i,v in average_metric.items():\n",
        "    print(\"for indexes {} the Equal opportunity value is : {}\".format(i,v))\n",
        "  print('Equal opportunity:',eq)\n",
        "  print('Accuracy', acc)\n",
        "  return(acc,eq,ind)"
      ],
      "metadata": {
        "id": "Xq0ygkZk8VzY"
      },
      "execution_count": 7,
      "outputs": []
    },
    {
      "cell_type": "code",
      "source": [
        "#Calling the cross validation function by passing the\n",
        "eq_cva=[]\n",
        "acc_cva=[]\n",
        "ind_cva=[]\n",
        "acc_cva,eq_cva,ind_cva=cross_validation_adult(unscaled_adult_train,unscaled_adult_test,0,-10,5,5)"
      ],
      "metadata": {
        "colab": {
          "base_uri": "https://localhost:8080/"
        },
        "id": "CG7h9-e2Kofl",
        "outputId": "af46bfd3-d567-4581-9cb4-83bafc1bd03a"
      },
      "execution_count": 8,
      "outputs": [
        {
          "output_type": "stream",
          "name": "stdout",
          "text": [
            "for indexes 1.0 the Equal opportunity value is : -0.4657143725487554\n",
            "for indexes 0.0031622776601683794 the Equal opportunity value is : -0.4631188426280633\n",
            "for indexes 1e-05 the Equal opportunity value is : -0.23060303341214533\n",
            "for indexes 3.162277660168379e-08 the Equal opportunity value is : -0.23831720531925935\n",
            "for indexes 1e-10 the Equal opportunity value is : -0.23831720531925935\n",
            "Equal opportunity: [-0.4657143725487554, -0.4631188426280633, -0.23060303341214533, -0.23831720531925935, -0.23831720531925935]\n",
            "Accuracy [0.8039427862340653, 0.803591806415405, 0.7948462041975807, 0.7938517613780428, 0.7938517613780428]\n"
          ]
        }
      ]
    },
    {
      "cell_type": "code",
      "source": [
        "#Plotting the Graph \n",
        "import matplotlib.pyplot as plt\n",
        "\n",
        "fig,ax=plt.subplots()\n",
        "ax.plot(ind_cva,acc_cva,color='red',label='Accuracy')\n",
        "plt.xscale('log')\n",
        "ax.set_xlabel('C Value')\n",
        "ax.set_ylabel('Accuracy')\n",
        "ax2=ax.twinx()\n",
        "ax2.plot(ind_cva,eq_cva,color='green',label='Fairness Metric')\n",
        "ax2.set_ylabel('Fairness metric')\n",
        "ax.legend()\n",
        "ax2.legend()\n",
        "plt.show()"
      ],
      "metadata": {
        "colab": {
          "base_uri": "https://localhost:8080/",
          "height": 283
        },
        "id": "JgnjcyBSHFl1",
        "outputId": "b2b2b771-e5e9-4573-e0ae-dfad6630444e"
      },
      "execution_count": 9,
      "outputs": [
        {
          "output_type": "display_data",
          "data": {
            "text/plain": [
              "<Figure size 432x288 with 2 Axes>"
            ],
            "image/png": "[encoded data removed]"
          },
          "metadata": {
            "needs_background": "light"
          }
        }
      ]
    },
    {
      "cell_type": "code",
      "source": [
        "#Function for Tesing the entire set\n",
        "def full_test_adult(train,test,c):\n",
        "      scale_orig = StandardScaler()\n",
        "      X_train = scale_orig.fit_transform(train.features)\n",
        "      y_train = train.labels.ravel()\n",
        "\n",
        "      X_test = scale_orig.transform(test.features) \n",
        "      y_test = test.labels.ravel()\n",
        "\n",
        "      learner = LogisticRegression(solver='liblinear', random_state=1,C=c)  \n",
        "      learner.fit(X_train,y_train)\n",
        "      predictions = learner.predict(X_test)\n",
        "\n",
        "      test_pred = test.copy()\n",
        "      test_pred.labels = predictions\n",
        "      print(\"Accuracy\", sum(predictions==y_test)/len(y_test))\n",
        "      metric = ClassificationMetric(test, test_pred, unprivileged_groups=unprivileged_groups, privileged_groups=privileged_groups)\n",
        "      metric_arrs = {}\n",
        "      metric_arrs['eq_opp_diff']=(metric.equal_opportunity_difference())\n",
        "      print(\"Equal opportunity:\")\n",
        "      print(metric_arrs['eq_opp_diff'])\n"
      ],
      "metadata": {
        "id": "RXJqd1kqXPsQ"
      },
      "execution_count": 10,
      "outputs": []
    },
    {
      "cell_type": "code",
      "source": [
        "#Calling the Full test function for both values of C\n",
        "print(\"Model with highest accuracy:\") #Passing value of C which gave us the highest accuracy\n",
        "full_test_adult(unscaled_adult_train,unscaled_adult_test,1.0)\n",
        "print(\"Model with best fairness metric\")#Passing value of C which gave us the best Equal opportunity difference\n",
        "full_test_adult(unscaled_adult_train,unscaled_adult_test,0.00001)"
      ],
      "metadata": {
        "colab": {
          "base_uri": "https://localhost:8080/"
        },
        "id": "2P1D8t8YXhst",
        "outputId": "01121f2f-f977-4eff-8a65-9f6e9892d333"
      },
      "execution_count": 11,
      "outputs": [
        {
          "output_type": "stream",
          "name": "stdout",
          "text": [
            "Model with highest accuracy:\n",
            "Accuracy 0.8042039172865625\n",
            "Equal opportunity:\n",
            "-0.4414141414141414\n",
            "Model with best fairness metric\n",
            "Accuracy 0.7975841124684365\n",
            "Equal opportunity:\n",
            "-0.2189742958035641\n"
          ]
        }
      ]
    },
    {
      "cell_type": "markdown",
      "source": [
        "# Task 2(Adult dataset)"
      ],
      "metadata": {
        "id": "fpRsnZVleGJx"
      }
    },
    {
      "cell_type": "code",
      "source": [
        "#Creating cross validation function with Reweighing, which is an algorithmic fairness method. \n",
        "def Reweighing_adult(utrain,utest,s,e,l,splits):\n",
        "  c_value=np.logspace(s,e,l)\n",
        "  cv = KFold(n_splits=splits, random_state=1, shuffle=True)\n",
        "  average_metric={}\n",
        "  acc=[]\n",
        "  eq=[]\n",
        "  ind=[]\n",
        "  for i in c_value:\n",
        "    learner = LogisticRegression(solver='liblinear', random_state=1, C=i)\n",
        "    marray=[]\n",
        "    aarray=[]\n",
        "    for train_ix, test_ix in cv.split(utrain.features):\n",
        "\n",
        "      train_x,test_x=utrain.subset(train_ix),utrain.subset(test_ix)\n",
        "      scale_orig = StandardScaler()\n",
        "      X_train = scale_orig.fit_transform(train_x.features)\n",
        "      y_train = train_x.labels.ravel()\n",
        "      X_test = scale_orig.transform(test_x.features) \n",
        "      y_test = test_x.labels.ravel()\n",
        "      \n",
        "      \n",
        "      RW = Reweighing(unprivileged_groups=unprivileged_groups,privileged_groups=privileged_groups) #Mitigating the bias\n",
        "      train = RW.fit_transform(train_x) #Obtaining a set of weights for the training set\n",
        "      learner.fit(X_train,y_train,sample_weight=train.instance_weights) #Using the classifier as before but we use the instance weights in the training phase.\n",
        "      predictions = learner.predict(X_test)\n",
        "      test_pred = test_x.copy()\n",
        "      test_pred.labels = predictions\n",
        "      \n",
        "      metric = ClassificationMetric(test_x, test_pred, unprivileged_groups=unprivileged_groups, privileged_groups=privileged_groups)\n",
        "      marray.append((metric.equal_opportunity_difference()))\n",
        "      aarray.append(sum(predictions==y_test)/len(y_test))\n",
        "    average_metric[i]=np.mean(marray)\n",
        "    eq.append(average_metric[i])\n",
        "    acc.append(np.mean(aarray))\n",
        "    ind.append(i)\n",
        "  for i,v in average_metric.items():\n",
        "    print(\"for indexes {} the Equal opportunity value is : {}\".format(i,v))\n",
        "  print('Equal opportunity:',eq)\n",
        "  print('Accuracy',acc)\n",
        "  return(acc,eq,ind)"
      ],
      "metadata": {
        "id": "iiQ0dFiRuh7g"
      },
      "execution_count": 12,
      "outputs": []
    },
    {
      "cell_type": "code",
      "source": [
        "eq_ra=[]\n",
        "acc_ra=[]\n",
        "ind_ra=[]\n",
        "\n",
        "acc_ra,eq_ra,ind_ra=Reweighing_adult(unscaled_adult_train,unscaled_adult_test,0,-10,5,5)"
      ],
      "metadata": {
        "colab": {
          "base_uri": "https://localhost:8080/"
        },
        "id": "0CpHWFTx1Gdt",
        "outputId": "1b494805-f97c-43ca-c25d-3e54fd11f6d8"
      },
      "execution_count": 13,
      "outputs": [
        {
          "output_type": "stream",
          "name": "stdout",
          "text": [
            "for indexes 1.0 the Equal opportunity value is : -0.010798338894180548\n",
            "for indexes 0.0031622776601683794 the Equal opportunity value is : -0.010798338894180548\n",
            "for indexes 1e-05 the Equal opportunity value is : -0.0019002020841960344\n",
            "for indexes 3.162277660168379e-08 the Equal opportunity value is : -0.0029552411870439\n",
            "for indexes 1e-10 the Equal opportunity value is : -0.0029552411870439\n",
            "Equal opportunity: [-0.010798338894180548, -0.010798338894180548, -0.0019002020841960344, -0.0029552411870439, -0.0029552411870439]\n",
            "Accuracy [0.7896983590183363, 0.7896983590183363, 0.7865394251458449, 0.7864809285094014, 0.7864809285094014]\n"
          ]
        }
      ]
    },
    {
      "cell_type": "code",
      "source": [
        "#Plotting the Graph \n",
        "fig,ax=plt.subplots()\n",
        "ax.plot(ind_ra,acc_ra,color='red',label='Accuracy')\n",
        "plt.xscale('log')\n",
        "ax.set_xlabel('C Value')\n",
        "ax2=ax.twinx()\n",
        "ax2.plot(ind_ra,eq_ra,color='green',label='Fairness Metric')\n",
        "ax.set_ylabel('Accuracy')\n",
        "ax2.set_ylabel('Fairness metric')\n",
        "ax.legend()\n",
        "ax2.legend()\n",
        "plt.show()"
      ],
      "metadata": {
        "colab": {
          "base_uri": "https://localhost:8080/",
          "height": 283
        },
        "id": "QZI9ZN-eQX8q",
        "outputId": "83cdce25-0138-43cc-b7e3-55a0cd23ba19"
      },
      "execution_count": 14,
      "outputs": [
        {
          "output_type": "display_data",
          "data": {
            "text/plain": [
              "<Figure size 432x288 with 2 Axes>"
            ],
            "image/png": "[encoded data removed]"
          },
          "metadata": {
            "needs_background": "light"
          }
        }
      ]
    },
    {
      "cell_type": "code",
      "source": [
        "#Doing full test with reweighing\n",
        "def full_test_reweighing_adult(train,test,c):\n",
        "      scale_orig = StandardScaler()\n",
        "      X_train = scale_orig.fit_transform(train.features)\n",
        "      y_train = train.labels.ravel()\n",
        "\n",
        "      X_test = scale_orig.transform(test.features) \n",
        "      y_test = test.labels.ravel()\n",
        "\n",
        "      RW = Reweighing(unprivileged_groups=unprivileged_groups,privileged_groups=privileged_groups)\n",
        "      train = RW.fit_transform(train)\n",
        "      \n",
        "      learner = LogisticRegression(solver='liblinear', random_state=1,C=c)  \n",
        "      learner.fit(X_train,y_train,sample_weight=train.instance_weights)\n",
        "\n",
        "\n",
        "      predictions = learner.predict(X_test)\n",
        "\n",
        "      test_pred = test.copy()\n",
        "      test_pred.labels = predictions\n",
        "      print(\"Accuracy\", sum(predictions==y_test)/len(y_test))\n",
        "      metric = ClassificationMetric(test, test_pred, unprivileged_groups=unprivileged_groups, privileged_groups=privileged_groups)\n",
        "      metric_arrs = {}\n",
        "      metric_arrs['eq_opp_diff']=(metric.equal_opportunity_difference())\n",
        "      print(\"Equal opportunity:\")\n",
        "      print(metric_arrs['eq_opp_diff'])\n",
        "     "
      ],
      "metadata": {
        "id": "CcKtQ9Lu2CB0"
      },
      "execution_count": 16,
      "outputs": []
    },
    {
      "cell_type": "code",
      "source": [
        "print(\"Model with highest accuracy:\")\n",
        "full_test_reweighing_adult(unscaled_adult_train,unscaled_adult_test,1.0)\n",
        "print(\"Model with best fairness metric\")\n",
        "full_test_reweighing_adult(unscaled_adult_train,unscaled_adult_test,0.00001)"
      ],
      "metadata": {
        "colab": {
          "base_uri": "https://localhost:8080/"
        },
        "id": "COC-799b1rbj",
        "outputId": "a9e0a5b1-192f-4b2f-9628-ae0da94510d3"
      },
      "execution_count": 17,
      "outputs": [
        {
          "output_type": "stream",
          "name": "stdout",
          "text": [
            "Model with highest accuracy:\n",
            "Accuracy 0.7905548351873336\n",
            "Equal opportunity:\n",
            "0.03513180586351322\n",
            "Model with best fairness metric\n",
            "Accuracy 0.7876202825359995\n",
            "Equal opportunity:\n",
            "0.03327174180832715\n"
          ]
        }
      ]
    },
    {
      "cell_type": "markdown",
      "source": [
        "# German Dataset\n",
        "\n"
      ],
      "metadata": {
        "id": "kq7ftjdT3jIc"
      }
    },
    {
      "cell_type": "code",
      "source": [
        "cd /usr/local/lib/python3.7/dist-packages/aif360/data/raw/german\n"
      ],
      "metadata": {
        "colab": {
          "base_uri": "https://localhost:8080/"
        },
        "id": "u2sEz0oW2fW-",
        "outputId": "52e95e50-fb5e-42e3-f10a-e3eb78ea5b2a"
      },
      "execution_count": 18,
      "outputs": [
        {
          "output_type": "stream",
          "name": "stdout",
          "text": [
            "/usr/local/lib/python3.7/dist-packages/aif360/data/raw/german\n"
          ]
        }
      ]
    },
    {
      "cell_type": "code",
      "source": [
        "!wget https://archive.ics.uci.edu/ml/machine-learning-databases/statlog/german/german.data\n",
        "!wget https://archive.ics.uci.edu/ml/machine-learning-databases/statlog/german/german.doc\n"
      ],
      "metadata": {
        "colab": {
          "base_uri": "https://localhost:8080/"
        },
        "id": "iw8wf2MI46sD",
        "outputId": "ba73a291-e7d4-46a8-de3c-99b9facc9dc6"
      },
      "execution_count": 19,
      "outputs": [
        {
          "output_type": "stream",
          "name": "stdout",
          "text": [
            "--2022-05-13 11:00:38--  https://archive.ics.uci.edu/ml/machine-learning-databases/statlog/german/german.data\n",
            "Resolving archive.ics.uci.edu (archive.ics.uci.edu)... 128.195.10.252\n",
            "Connecting to archive.ics.uci.edu (archive.ics.uci.edu)|128.195.10.252|:443... connected.\n",
            "HTTP request sent, awaiting response... 200 OK\n",
            "Length: 79793 (78K) [application/x-httpd-php]\n",
            "Saving to: ‘german.data’\n",
            "\n",
            "german.data         100%[===================>]  77.92K  --.-KB/s    in 0.02s   \n",
            "\n",
            "2022-05-13 11:00:38 (3.26 MB/s) - ‘german.data’ saved [79793/79793]\n",
            "\n",
            "--2022-05-13 11:00:38--  https://archive.ics.uci.edu/ml/machine-learning-databases/statlog/german/german.doc\n",
            "Resolving archive.ics.uci.edu (archive.ics.uci.edu)... 128.195.10.252\n",
            "Connecting to archive.ics.uci.edu (archive.ics.uci.edu)|128.195.10.252|:443... connected.\n",
            "HTTP request sent, awaiting response... 200 OK\n",
            "Length: 4679 (4.6K) [application/x-httpd-php]\n",
            "Saving to: ‘german.doc’\n",
            "\n",
            "german.doc          100%[===================>]   4.57K  --.-KB/s    in 0s      \n",
            "\n",
            "2022-05-13 11:00:38 (148 MB/s) - ‘german.doc’ saved [4679/4679]\n",
            "\n"
          ]
        }
      ]
    },
    {
      "cell_type": "code",
      "source": [
        "#In this dataset, its about credit and its dependent on age, hence we are setting privileged group and unprivileged group with Age\n",
        "privileged_groups = [{'age': 1}]\n",
        "unprivileged_groups = [{'age': 0}]\n",
        "dataset_orig = load_preproc_data_german(['age']) \n",
        "\n",
        "\n",
        "# We split between training and test set.\n",
        "unscaled_german_train, unscaled_german_test = dataset_orig.split([0.7], shuffle=True,seed=np.random.seed(0))\n",
        "print(\"training data size\", unscaled_german_train.features.shape)\n",
        "print(\"dataset feature names\", unscaled_german_train.feature_names)\n"
      ],
      "metadata": {
        "colab": {
          "base_uri": "https://localhost:8080/"
        },
        "id": "wrCiHnGJ4W4u",
        "outputId": "991f088e-5cd1-409c-a1d2-0856013437bc"
      },
      "execution_count": 20,
      "outputs": [
        {
          "output_type": "stream",
          "name": "stdout",
          "text": [
            "training data size (700, 11)\n",
            "dataset feature names ['age', 'sex', 'credit_history=Delay', 'credit_history=None/Paid', 'credit_history=Other', 'savings=500+', 'savings=<500', 'savings=Unknown/None', 'employment=1-4 years', 'employment=4+ years', 'employment=Unemployed']\n"
          ]
        }
      ]
    },
    {
      "cell_type": "markdown",
      "source": [
        "# Task 1 German"
      ],
      "metadata": {
        "id": "ufunz6_uuNnz"
      }
    },
    {
      "cell_type": "code",
      "source": [
        "#The cross validation function is same as that of the adult dataset.\n",
        "def cross_validation_german(utrain,utest,s,e,l,splits):\n",
        "  c_value=np.logspace(s,e,l)\n",
        "  cv = KFold(n_splits=splits, random_state=1, shuffle=True)\n",
        "  average_metric={}\n",
        "  acc=[]\n",
        "  eq=[]\n",
        "  ind=[]\n",
        "  for i in c_value:\n",
        "    learner = LogisticRegression(solver='liblinear', random_state=1, C=i)\n",
        "    marray=[]\n",
        "    aarray=[]\n",
        "    for train_ix, test_ix in cv.split(utrain.features):\n",
        "\n",
        "      train_x,test_x=utrain.subset(train_ix),utrain.subset(test_ix)\n",
        "      scale_orig = StandardScaler()\n",
        "      X_train = scale_orig.fit_transform(train_x.features)\n",
        "      y_train = train_x.labels.ravel()\n",
        "      X_test = scale_orig.transform(test_x.features) \n",
        "      y_test = test_x.labels.ravel()\n",
        "\n",
        "      learner.fit(X_train,y_train)\n",
        "      predictions = learner.predict(X_test)\n",
        "      test_pred = test_x.copy()\n",
        "      test_pred.labels = predictions\n",
        "      \n",
        "      metric = ClassificationMetric(test_x, test_pred, unprivileged_groups=unprivileged_groups, privileged_groups=privileged_groups)\n",
        "      marray.append((metric.equal_opportunity_difference()))\n",
        "      aarray.append(sum(predictions==y_test)/len(y_test))\n",
        "    average_metric[i]=np.mean(marray)\n",
        "    eq.append(average_metric[i])\n",
        "    acc.append(np.mean(aarray))\n",
        "    ind.append(i)\n",
        "  for i,v in average_metric.items():\n",
        "    print(\"for indexes {} the Equal opportunity value is : {}\".format(i,v))\n",
        "  print('Equal opportunity:',eq)\n",
        "  print('Accuracy',acc)\n",
        "  return(acc,eq,ind)\n"
      ],
      "metadata": {
        "id": "Utl9LaMN5Vb6"
      },
      "execution_count": 21,
      "outputs": []
    },
    {
      "cell_type": "code",
      "source": [
        "eq_cva_g=[]\n",
        "acc_cva_g=[]\n",
        "ind_cva_g=[]\n",
        "acc_cva_g,eq_cva_g,ind_cva_g=cross_validation_german(unscaled_german_train,unscaled_german_test,0,-10,5,5)"
      ],
      "metadata": {
        "colab": {
          "base_uri": "https://localhost:8080/"
        },
        "id": "6MJ2MZye5cbM",
        "outputId": "eee5c603-eb2b-411d-fdc4-95a74a9d14d9"
      },
      "execution_count": 22,
      "outputs": [
        {
          "output_type": "stream",
          "name": "stdout",
          "text": [
            "for indexes 1.0 the Equal opportunity value is : -0.37959871489859254\n",
            "for indexes 0.0031622776601683794 the Equal opportunity value is : -0.5411661055596405\n",
            "for indexes 1e-05 the Equal opportunity value is : -0.48848364933793553\n",
            "for indexes 3.162277660168379e-08 the Equal opportunity value is : -0.48848364933793553\n",
            "for indexes 1e-10 the Equal opportunity value is : -0.48848364933793553\n",
            "Equal opportunity: [-0.37959871489859254, -0.5411661055596405, -0.48848364933793553, -0.48848364933793553, -0.48848364933793553]\n",
            "Accuracy [0.69, 0.6728571428571428, 0.6414285714285713, 0.6414285714285713, 0.6414285714285713]\n"
          ]
        }
      ]
    },
    {
      "cell_type": "code",
      "source": [
        "#Plotting the Graph \n",
        "fig,ax=plt.subplots()\n",
        "ax.plot(ind_cva_g,acc_cva_g,color='red',label='Accuracy')\n",
        "plt.xscale('log')\n",
        "ax.set_xlabel('C Value')\n",
        "ax.set_ylabel('Accuracy')\n",
        "ax2=ax.twinx()\n",
        "ax2.plot(ind_cva_g,eq_cva_g,color='green',label='Fairness Metric')\n",
        "ax2.set_ylabel('Fairness metric')\n",
        "ax.legend(loc='upper right')\n",
        "ax2.legend()\n",
        "plt.show()\n"
      ],
      "metadata": {
        "colab": {
          "base_uri": "https://localhost:8080/",
          "height": 283
        },
        "id": "BIUYknDuRDPY",
        "outputId": "8a247874-3aac-4205-ac1c-6cc9d8a005ea"
      },
      "execution_count": 23,
      "outputs": [
        {
          "output_type": "display_data",
          "data": {
            "text/plain": [
              "<Figure size 432x288 with 2 Axes>"
            ],
            "image/png": "[encoded data removed]"
          },
          "metadata": {
            "needs_background": "light"
          }
        }
      ]
    },
    {
      "cell_type": "code",
      "source": [
        "#Doing a full test\n",
        "def full_test_german(train,test,c):\n",
        "      scale_orig = StandardScaler()\n",
        "      X_train = scale_orig.fit_transform(train.features)\n",
        "      y_train = train.labels.ravel()\n",
        "\n",
        "      X_test = scale_orig.transform(test.features) \n",
        "      y_test = test.labels.ravel()\n",
        "\n",
        "      learner = LogisticRegression(solver='liblinear', random_state=1,C=c)  \n",
        "      learner.fit(X_train,y_train)\n",
        "      predictions = learner.predict(X_test)\n",
        "\n",
        "      test_pred = test.copy()\n",
        "      test_pred.labels = predictions\n",
        "      print(\"Accuracy\", sum(predictions==y_test)/len(y_test))\n",
        "      metric = ClassificationMetric(test, test_pred, unprivileged_groups=unprivileged_groups, privileged_groups=privileged_groups)\n",
        "      metric_arrs = {}\n",
        "      metric_arrs['eq_opp_diff']=(metric.equal_opportunity_difference())\n",
        "      print(\"Equal opportunity:\")\n",
        "      print(metric_arrs['eq_opp_diff'])\n",
        "     "
      ],
      "metadata": {
        "id": "TWARz5mB9bO3"
      },
      "execution_count": 24,
      "outputs": []
    },
    {
      "cell_type": "code",
      "source": [
        "print(\"Model with highest accuracy:\")\n",
        "full_test_german(unscaled_german_train,unscaled_german_test,1.0)\n",
        "print(\"Model with best fairness metric\")\n",
        "full_test_german(unscaled_german_train,unscaled_german_test,1.0)"
      ],
      "metadata": {
        "colab": {
          "base_uri": "https://localhost:8080/"
        },
        "id": "GB-igzEE9eoh",
        "outputId": "85a2af78-c8b3-40c0-c559-fcd980270d91"
      },
      "execution_count": 25,
      "outputs": [
        {
          "output_type": "stream",
          "name": "stdout",
          "text": [
            "Model with highest accuracy:\n",
            "Accuracy 0.6966666666666667\n",
            "Equal opportunity:\n",
            "-0.4372261383120595\n",
            "Model with best fairness metric\n",
            "Accuracy 0.6966666666666667\n",
            "Equal opportunity:\n",
            "-0.4372261383120595\n"
          ]
        }
      ]
    },
    {
      "cell_type": "markdown",
      "source": [
        "# Task 2 german"
      ],
      "metadata": {
        "id": "fmZRwqmbDF_9"
      }
    },
    {
      "cell_type": "code",
      "source": [
        "#doing the reweighing for the german dataset\n",
        "def Reweighing_german(utrain,utest,s,e,l,splits):\n",
        "  c_value=np.logspace(s,e,l)\n",
        "  cv = KFold(n_splits=splits, random_state=1, shuffle=True)\n",
        "  average_metric={}\n",
        "  acc=[]\n",
        "  eq=[]\n",
        "  ind=[]\n",
        "  for i in c_value:\n",
        "    learner = LogisticRegression(solver='liblinear', random_state=1, C=i)\n",
        "    marray=[]\n",
        "    aarray=[]\n",
        "    for train_ix, test_ix in cv.split(utrain.features):\n",
        "\n",
        "      train_x,test_x=utrain.subset(train_ix),utrain.subset(test_ix)\n",
        "      scale_orig = StandardScaler()\n",
        "      X_train = scale_orig.fit_transform(train_x.features)\n",
        "      y_train = train_x.labels.ravel()\n",
        "      X_test = scale_orig.transform(test_x.features) \n",
        "      y_test = test_x.labels.ravel()\n",
        "      \n",
        "      \n",
        "      RW = Reweighing(unprivileged_groups=unprivileged_groups,privileged_groups=privileged_groups)\n",
        "      train = RW.fit_transform(train_x)\n",
        "      learner.fit(X_train,y_train,sample_weight=train.instance_weights)\n",
        "      predictions = learner.predict(X_test)\n",
        "      test_pred = test_x.copy()\n",
        "      test_pred.labels = predictions\n",
        "      \n",
        "      metric = ClassificationMetric(test_x, test_pred, unprivileged_groups=unprivileged_groups, privileged_groups=privileged_groups)\n",
        "      marray.append((metric.equal_opportunity_difference()))\n",
        "      aarray.append(sum(predictions==y_test)/len(y_test))\n",
        "    average_metric[i]=np.mean(marray)\n",
        "    eq.append(average_metric[i])\n",
        "    acc.append(np.mean(aarray))\n",
        "    ind.append(i)\n",
        "  for i,v in average_metric.items():\n",
        "    print(\"for indexes {} the Equal opportunity value is : {}\".format(i,v))\n",
        "  print('Equal opportunity:',eq)\n",
        "  print('Accuracy',acc)\n",
        "  return(acc,eq,ind)\n",
        "\n"
      ],
      "metadata": {
        "id": "gLcei_sc-AIW"
      },
      "execution_count": 26,
      "outputs": []
    },
    {
      "cell_type": "code",
      "source": [
        "eq_ra_g=[]\n",
        "acc_ra_g=[]\n",
        "ind_ra_g=[]\n",
        "acc_ra_g,eq_ra_g,ind_ra_g=Reweighing_german(unscaled_german_train,unscaled_german_test,0,-10,5,5)"
      ],
      "metadata": {
        "colab": {
          "base_uri": "https://localhost:8080/"
        },
        "id": "2W2a9iuH_bZX",
        "outputId": "384b2bb3-9b68-4dc6-d25f-31433a60764e"
      },
      "execution_count": 27,
      "outputs": [
        {
          "output_type": "stream",
          "name": "stdout",
          "text": [
            "for indexes 1.0 the Equal opportunity value is : 0.030607809261714934\n",
            "for indexes 0.0031622776601683794 the Equal opportunity value is : 0.007540509462763967\n",
            "for indexes 1e-05 the Equal opportunity value is : -0.2569217581184666\n",
            "for indexes 3.162277660168379e-08 the Equal opportunity value is : -0.2569217581184666\n",
            "for indexes 1e-10 the Equal opportunity value is : -0.2569217581184666\n",
            "Equal opportunity: [0.030607809261714934, 0.007540509462763967, -0.2569217581184666, -0.2569217581184666, -0.2569217581184666]\n",
            "Accuracy [0.6857142857142857, 0.6785714285714286, 0.6542857142857142, 0.6542857142857142, 0.6542857142857142]\n"
          ]
        }
      ]
    },
    {
      "cell_type": "code",
      "source": [
        "#Plotting the Graph \n",
        "fig,ax=plt.subplots()\n",
        "ax.plot(ind_ra_g,acc_ra_g,color='red',label='Accuracy')\n",
        "plt.xscale('log')\n",
        "ax.set_xlabel('C Value')\n",
        "ax.set_ylabel('Accuracy')\n",
        "ax2=ax.twinx()\n",
        "ax2.plot(ind_ra_g,eq_ra_g,color='green',label='Fairness Metric')\n",
        "ax2.set_ylabel('Fairness metric')\n",
        "ax.legend(loc='upper right')\n",
        "ax2.legend()\n",
        "plt.show()\n",
        "\n",
        "\n"
      ],
      "metadata": {
        "colab": {
          "base_uri": "https://localhost:8080/",
          "height": 283
        },
        "id": "tz03EsMfR-0R",
        "outputId": "36781ec2-ef3c-4534-b710-e46f816eac0c"
      },
      "execution_count": 28,
      "outputs": [
        {
          "output_type": "display_data",
          "data": {
            "text/plain": [
              "<Figure size 432x288 with 2 Axes>"
            ],
            "image/png": "[encoded data removed]"
          },
          "metadata": {
            "needs_background": "light"
          }
        }
      ]
    },
    {
      "cell_type": "code",
      "source": [
        "def full_test_reweighing_german(train,test,c):\n",
        "      scale_orig = StandardScaler()\n",
        "      X_train = scale_orig.fit_transform(train.features)\n",
        "      y_train = train.labels.ravel()\n",
        "\n",
        "      X_test = scale_orig.transform(test.features) \n",
        "      y_test = test.labels.ravel()\n",
        "\n",
        "      RW = Reweighing(unprivileged_groups=unprivileged_groups,privileged_groups=privileged_groups)\n",
        "      train = RW.fit_transform(train)\n",
        "      \n",
        "      learner = LogisticRegression(solver='liblinear', random_state=1,C=c)  \n",
        "      learner.fit(X_train,y_train,sample_weight=train.instance_weights)\n",
        "\n",
        "      \n",
        "      predictions = learner.predict(X_test)\n",
        "\n",
        "      test_pred = test.copy()\n",
        "      test_pred.labels = predictions\n",
        "      print(\"Accuracy\", sum(predictions==y_test)/len(y_test))\n",
        "      metric = ClassificationMetric(test, test_pred, unprivileged_groups=unprivileged_groups, privileged_groups=privileged_groups)\n",
        "      metric_arrs = {}\n",
        "      metric_arrs['eq_opp_diff']=(metric.equal_opportunity_difference())\n",
        "      print(\"Equal opportunity:\")\n",
        "      print(metric_arrs['eq_opp_diff'])\n",
        "     "
      ],
      "metadata": {
        "id": "J7iz3ZV__fiu"
      },
      "execution_count": 29,
      "outputs": []
    },
    {
      "cell_type": "code",
      "source": [
        "print(\"Model with highest accuracy:\")\n",
        "full_test_reweighing_german(unscaled_german_train,unscaled_german_test,1)\n",
        "print(\"Model with best fairness metric\")\n",
        "full_test_reweighing_german(unscaled_german_train,unscaled_german_test,0.0031622776601683794)"
      ],
      "metadata": {
        "colab": {
          "base_uri": "https://localhost:8080/"
        },
        "id": "63fqq5xo_i5Z",
        "outputId": "89a03d75-5b27-42ac-85ba-d80caefdb8f6"
      },
      "execution_count": 30,
      "outputs": [
        {
          "output_type": "stream",
          "name": "stdout",
          "text": [
            "Model with highest accuracy:\n",
            "Accuracy 0.7066666666666667\n",
            "Equal opportunity:\n",
            "0.011049723756906049\n",
            "Model with best fairness metric\n",
            "Accuracy 0.7066666666666667\n",
            "Equal opportunity:\n",
            "0.06629834254143652\n"
          ]
        }
      ]
    },
    {
      "cell_type": "markdown",
      "source": [
        "# Task 3"
      ],
      "metadata": {
        "id": "JtdC0Ip8Gido"
      }
    },
    {
      "cell_type": "markdown",
      "source": [
        "For the 3rd task,where we have to analysis of the machine learning methods beyond lecture materials, we are using random forest classifier"
      ],
      "metadata": {
        "id": "Ff2ZFco49UVJ"
      }
    },
    {
      "cell_type": "markdown",
      "source": [
        "#Adult Dataset"
      ],
      "metadata": {
        "id": "smCT4MNMAlew"
      }
    },
    {
      "cell_type": "code",
      "source": [
        "from sklearn.ensemble import RandomForestClassifier"
      ],
      "metadata": {
        "id": "02cSvwl5GhxH"
      },
      "execution_count": 31,
      "outputs": []
    },
    {
      "cell_type": "code",
      "source": [
        "#We define where's the bias in the features of our dataset.\n",
        "\n",
        "privileged_groups = [{'sex': 1}]\n",
        "unprivileged_groups = [{'sex': 0}]\n",
        "dataset_orig = load_preproc_data_adult(['sex'])\n",
        "\n",
        "\n",
        "# We split between training and test set.\n",
        "unscaled_train_adult_rf, unscaled_test_adult_rf = dataset_orig.split([0.7], shuffle=True,seed=np.random.seed(0))\n",
        "print(\"training data size\", unscaled_train_adult_rf.features.shape)\n",
        "print(\"dataset feature names\", unscaled_train_adult_rf.feature_names)"
      ],
      "metadata": {
        "colab": {
          "base_uri": "https://localhost:8080/"
        },
        "id": "jrxx8quaSPwl",
        "outputId": "9d531162-4745-431e-9429-416c030873b6"
      },
      "execution_count": 32,
      "outputs": [
        {
          "output_type": "stream",
          "name": "stdout",
          "text": [
            "training data size (34189, 18)\n",
            "dataset feature names ['race', 'sex', 'Age (decade)=10', 'Age (decade)=20', 'Age (decade)=30', 'Age (decade)=40', 'Age (decade)=50', 'Age (decade)=60', 'Age (decade)=>=70', 'Education Years=6', 'Education Years=7', 'Education Years=8', 'Education Years=9', 'Education Years=10', 'Education Years=11', 'Education Years=12', 'Education Years=<6', 'Education Years=>12']\n"
          ]
        }
      ]
    },
    {
      "cell_type": "code",
      "source": [
        "#we are finding the accuracy and equal opportunity\n",
        "def cross_validation_rnnfrst_adult(train,test):\n",
        "      scale_orig = StandardScaler()\n",
        "      X_train = scale_orig.fit_transform(train.features)\n",
        "      y_train = train.labels.ravel()\n",
        "\n",
        "      X_test = scale_orig.transform(test.features) \n",
        "      y_test = test.labels.ravel()\n",
        "\n",
        "      learner = RandomForestClassifier(n_estimators=10,criterion='entropy')  #Initializing random forest classifier as learner\n",
        "      learner.fit(X_train,y_train)\n",
        "      predictions = learner.predict(X_test)\n",
        "\n",
        "      test_pred = test.copy()\n",
        "      test_pred.labels = predictions\n",
        "      print(\"Accuracy\", sum(predictions==y_test)/len(y_test))\n",
        "      metric = ClassificationMetric(test, test_pred, unprivileged_groups=unprivileged_groups, privileged_groups=privileged_groups)\n",
        "      metric_arrs = {}\n",
        "      metric_arrs['eq_opp_diff']=(metric.equal_opportunity_difference())\n",
        "      print(\"Equal opportunity:\")\n",
        "      print(metric_arrs['eq_opp_diff'])\n",
        "     "
      ],
      "metadata": {
        "id": "UaVfG_cTKoj1"
      },
      "execution_count": 33,
      "outputs": []
    },
    {
      "cell_type": "code",
      "source": [
        "cross_validation_rnnfrst_adult(unscaled_train_adult_rf,unscaled_test_adult_rf)\n",
        "#passsing the training and testing set to the function"
      ],
      "metadata": {
        "colab": {
          "base_uri": "https://localhost:8080/"
        },
        "id": "ZQBHZaFxLHrh",
        "outputId": "6160aacf-527d-40ac-8ac8-6d9fd00b5b35"
      },
      "execution_count": 34,
      "outputs": [
        {
          "output_type": "stream",
          "name": "stdout",
          "text": [
            "Accuracy 0.8036579540025933\n",
            "Equal opportunity:\n",
            "-0.44612794612794615\n"
          ]
        }
      ]
    },
    {
      "cell_type": "code",
      "source": [
        "#Using reweighing with th random forest classifier\n",
        "def reweight_rndfrst_adult(train,test):\n",
        "      scale_orig = StandardScaler()\n",
        "      X_train = scale_orig.fit_transform(train.features)\n",
        "      y_train = train.labels.ravel()\n",
        "\n",
        "      X_test = scale_orig.transform(test.features) \n",
        "      y_test = test.labels.ravel()\n",
        "\n",
        "      RW = Reweighing(unprivileged_groups=unprivileged_groups,privileged_groups=privileged_groups)\n",
        "      train = RW.fit_transform(train)\n",
        "      \n",
        "      learner = RandomForestClassifier(n_estimators=200)\n",
        "      learner.fit(X_train,y_train,sample_weight=train.instance_weights)\n",
        "\n",
        "      \n",
        "      predictions = learner.predict(X_test)\n",
        "\n",
        "      test_pred = test.copy()\n",
        "      test_pred.labels = predictions\n",
        "      print(\"Accuracy\", sum(predictions==y_test)/len(y_test))\n",
        "      metric = ClassificationMetric(test, test_pred, unprivileged_groups=unprivileged_groups, privileged_groups=privileged_groups)\n",
        "      metric_arrs = {}\n",
        "      metric_arrs['eq_opp_diff']=(metric.equal_opportunity_difference())\n",
        "      print(\"Equal opportunity:\")\n",
        "      print(metric_arrs['eq_opp_diff'])\n",
        "     "
      ],
      "metadata": {
        "id": "yaSZZiDCMFKX"
      },
      "execution_count": 35,
      "outputs": []
    },
    {
      "cell_type": "code",
      "source": [
        "#passing the testing and training adult dataset\n",
        "reweight_rndfrst_adult(unscaled_train_adult_rf,unscaled_test_adult_rf)"
      ],
      "metadata": {
        "colab": {
          "base_uri": "https://localhost:8080/"
        },
        "id": "DPB3iVNtTOf6",
        "outputId": "7bc92d50-a518-4402-cf8a-e05703ed97a5"
      },
      "execution_count": 36,
      "outputs": [
        {
          "output_type": "stream",
          "name": "stdout",
          "text": [
            "Accuracy 0.7902818535453491\n",
            "Equal opportunity:\n",
            "0.0040198735320686185\n"
          ]
        }
      ]
    },
    {
      "cell_type": "markdown",
      "source": [
        "#German Dataset"
      ],
      "metadata": {
        "id": "OhZ-xorLArLb"
      }
    },
    {
      "cell_type": "code",
      "source": [
        "#Taking the german dataset\n",
        "privileged_groups = [{'age': 1}]\n",
        "unprivileged_groups = [{'age': 0}]\n",
        "dataset_orig = load_preproc_data_german(['age'])\n",
        "\n",
        "\n",
        "#We split between training and test set.\n",
        "unscaled_train_german_rf, unscaled_test_german_rf = dataset_orig.split([0.7], shuffle=True,seed=np.random.seed(0))\n",
        "print(\"training data size\", unscaled_train_german_rf.features.shape)\n",
        "print(\"dataset feature names\", unscaled_train_german_rf.feature_names)\n"
      ],
      "metadata": {
        "colab": {
          "base_uri": "https://localhost:8080/"
        },
        "id": "2sUaBnLvTVK1",
        "outputId": "53593905-f485-4dce-a2f1-6b7c5a1fc3f9"
      },
      "execution_count": 37,
      "outputs": [
        {
          "output_type": "stream",
          "name": "stdout",
          "text": [
            "training data size (700, 11)\n",
            "dataset feature names ['age', 'sex', 'credit_history=Delay', 'credit_history=None/Paid', 'credit_history=Other', 'savings=500+', 'savings=<500', 'savings=Unknown/None', 'employment=1-4 years', 'employment=4+ years', 'employment=Unemployed']\n"
          ]
        }
      ]
    },
    {
      "cell_type": "code",
      "source": [
        "#FInding the accuracy and Equal oppotunity for the german dataset with random forest classifier\n",
        "def cross_validation_rnnfrst_german(train,test):\n",
        "      scale_orig = StandardScaler()\n",
        "      X_train = scale_orig.fit_transform(train.features)\n",
        "      y_train = train.labels.ravel()\n",
        "\n",
        "      X_test = scale_orig.transform(test.features) \n",
        "      y_test = test.labels.ravel()\n",
        "\n",
        "      learner = RandomForestClassifier(n_estimators=100)  \n",
        "      learner.fit(X_train,y_train)\n",
        "      predictions = learner.predict(X_test)\n",
        "\n",
        "      test_pred = test.copy()\n",
        "      test_pred.labels = predictions\n",
        "      print(\"Accuracy\", sum(predictions==y_test)/len(y_test))\n",
        "      metric = ClassificationMetric(test, test_pred, unprivileged_groups=unprivileged_groups, privileged_groups=privileged_groups)\n",
        "      metric_arrs = {}\n",
        "      metric_arrs['eq_opp_diff']=(metric.equal_opportunity_difference())\n",
        "      print(\"Equal opportunity:\")\n",
        "      print(metric_arrs['eq_opp_diff'])\n",
        "     "
      ],
      "metadata": {
        "id": "P0vTnP2UXTDk"
      },
      "execution_count": 38,
      "outputs": []
    },
    {
      "cell_type": "code",
      "source": [
        "cross_validation_rnnfrst_german(unscaled_train_german_rf,unscaled_test_german_rf)"
      ],
      "metadata": {
        "colab": {
          "base_uri": "https://localhost:8080/"
        },
        "id": "_1pSH2lmX3fi",
        "outputId": "018412f8-b3d5-437a-e00d-e2d118a1c9c7"
      },
      "execution_count": 43,
      "outputs": [
        {
          "output_type": "stream",
          "name": "stdout",
          "text": [
            "Accuracy 0.69\n",
            "Equal opportunity:\n",
            "-0.1847971042103257\n"
          ]
        }
      ]
    },
    {
      "cell_type": "code",
      "source": [
        "#Using reqeighing and then finding the accuracy and fairness\n",
        "def reweight_rndfrst_german(train,test):\n",
        "      scale_orig = StandardScaler()\n",
        "      X_train = scale_orig.fit_transform(train.features)\n",
        "      y_train = train.labels.ravel()\n",
        "\n",
        "      X_test = scale_orig.transform(test.features) \n",
        "      y_test = test.labels.ravel()\n",
        "\n",
        "      RW = Reweighing(unprivileged_groups=unprivileged_groups,privileged_groups=privileged_groups)\n",
        "      train = RW.fit_transform(train)\n",
        "      \n",
        "      learner = RandomForestClassifier(n_estimators=200)\n",
        "      learner.fit(X_train,y_train,sample_weight=train.instance_weights)\n",
        "\n",
        "      \n",
        "      predictions = learner.predict(X_test)\n",
        "\n",
        "      test_pred = test.copy()\n",
        "      test_pred.labels = predictions\n",
        "      print(\"Accuracy\", sum(predictions==y_test)/len(y_test))\n",
        "      metric = ClassificationMetric(test, test_pred, unprivileged_groups=unprivileged_groups, privileged_groups=privileged_groups)\n",
        "      metric_arrs = {}\n",
        "      metric_arrs['eq_opp_diff']=(metric.equal_opportunity_difference())\n",
        "      print(\"Equal opportunity:\")\n",
        "      print(metric_arrs['eq_opp_diff'])\n",
        "     "
      ],
      "metadata": {
        "id": "f1plce7JX7yC"
      },
      "execution_count": 40,
      "outputs": []
    },
    {
      "cell_type": "code",
      "source": [
        "reweight_rndfrst_german(unscaled_train_german_rf,unscaled_test_german_rf)"
      ],
      "metadata": {
        "colab": {
          "base_uri": "https://localhost:8080/"
        },
        "id": "eog5P6YSX_Bk",
        "outputId": "61f92816-6b56-4112-c328-4b301676ffd1"
      },
      "execution_count": 42,
      "outputs": [
        {
          "output_type": "stream",
          "name": "stdout",
          "text": [
            "Accuracy 0.68\n",
            "Equal opportunity:\n",
            "-0.17374738045341964\n"
          ]
        }
      ]
    },
    {
      "cell_type": "code",
      "source": [
        ""
      ],
      "metadata": {
        "id": "VV4eskYVBHy-"
      },
      "execution_count": 41,
      "outputs": []
    }
  ]
}